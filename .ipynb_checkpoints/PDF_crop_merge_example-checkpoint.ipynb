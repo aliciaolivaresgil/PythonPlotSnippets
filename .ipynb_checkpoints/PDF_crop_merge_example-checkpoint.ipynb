{
 "cells": [
  {
   "cell_type": "markdown",
   "id": "399581c8",
   "metadata": {},
   "source": [
    "# PDF page crop and merge with PyPDF2"
   ]
  },
  {
   "cell_type": "markdown",
   "id": "55a87e3d",
   "metadata": {},
   "source": [
    "Written with PyPDF2 version: 3.0.1"
   ]
  },
  {
   "cell_type": "code",
   "execution_count": 2,
   "id": "1d555ac4",
   "metadata": {},
   "outputs": [
    {
     "name": "stdout",
     "output_type": "stream",
     "text": [
      "Requirement already satisfied: PyPDF2==3.0.1 in /home/aolivares/miniconda3/lib/python3.9/site-packages (3.0.1)\r\n",
      "Requirement already satisfied: typing_extensions>=3.10.0.0 in /home/aolivares/miniconda3/lib/python3.9/site-packages (from PyPDF2==3.0.1) (4.9.0)\r\n"
     ]
    }
   ],
   "source": [
    "!pip install PyPDF2==3.0.1"
   ]
  },
  {
   "cell_type": "code",
   "execution_count": 4,
   "id": "8c3fa337",
   "metadata": {},
   "outputs": [
    {
     "data": {
      "text/plain": [
       "'3.0.1'"
      ]
     },
     "execution_count": 4,
     "metadata": {},
     "output_type": "execute_result"
    }
   ],
   "source": [
    "import PyPDF2\n",
    "PyPDF2.__version__"
   ]
  },
  {
   "cell_type": "code",
   "execution_count": 3,
   "id": "3e479567",
   "metadata": {},
   "outputs": [],
   "source": [
    "from PyPDF2 import PdfReader, PdfWriter, PageObject, Transformation\n",
    "from PyPDF2.generic import RectangleObject"
   ]
  },
  {
   "cell_type": "markdown",
   "id": "4de207bc",
   "metadata": {},
   "source": [
    "## 1. Crop PDF page or image "
   ]
  },
  {
   "cell_type": "code",
   "execution_count": 5,
   "id": "06217c34",
   "metadata": {},
   "outputs": [],
   "source": [
    "def pdf_crop(pdf_path, upper=0, lower=0, left=0, right=0, output_file_name=None): \n",
    "    \"\"\"\n",
    "    Reads, crops and saves a PDF page or image\n",
    "    \n",
    "    Parameters\n",
    "    ----------\n",
    "    pdf_path: str\n",
    "        Path of the PDF in file system\n",
    "    upper: float, default=0\n",
    "        Numeric value between 0 and 1. Crop value of the upper margin in terms of total height percentage. \n",
    "    lower: float, default=0\n",
    "        Numeric value between 0 and 1. Crop value of the lower margin in terms of total height percentage. \n",
    "    left: float, default=0\n",
    "        Numeric value between 0 and 1. Crop value of the left margin in terms of total width percentage. \n",
    "    right: float, default=0\n",
    "        Numeric value between 0 and 1. Crop value of the right margin in terms of total width percentage. \n",
    "    output_file_name: str, default=None\n",
    "        Path of the final PDF in file system. If None, output_file_name=pdf_path. \n",
    "    \"\"\"\n",
    "    #read pdf page\n",
    "    reader = PdfReader(open(pdf_path, 'rb'))\n",
    "    page = reader.pages[0]\n",
    "    \n",
    "    #calculate new margins \n",
    "    _, y = page.cropbox.upper_left\n",
    "    x,_ = page.cropbox.lower_right\n",
    "    upper = upper*float(page.mediabox.height)\n",
    "    lower = lower*float(page.mediabox.height)\n",
    "    left = left*float(page.mediabox.width)\n",
    "    right = right*float(page.mediabox.width)\n",
    "    \n",
    "    #apply new margins \n",
    "    page.add_transformation(Transformation().translate(-left, -lower))\n",
    "    new_mediabox = RectangleObject((0, 0, float(page.mediabox.width)-right-left, float(page.mediabox.height)-upper-lower))\n",
    "    page.mediabox = new_mediabox\n",
    "    new_upper_left = (0, float(y)-upper-lower)\n",
    "    new_lower_right = (float(x)-right-left, 0)\n",
    "    page.cropbox.upper_left = new_upper_left\n",
    "    page.cropbox.lower_right = new_lower_right\n",
    "\n",
    "    #save new pdf\n",
    "    writer = PdfWriter()\n",
    "    writer.add_page(page)\n",
    "    if output_file_name: \n",
    "        file_name = ouput_file_name\n",
    "    else: \n",
    "        file_name = pdf_path\n",
    "    with open(file_name, 'wb') as f:\n",
    "        writer.write(f)\n",
    "    "
   ]
  },
  {
   "cell_type": "code",
   "execution_count": null,
   "id": "d6773031",
   "metadata": {},
   "outputs": [],
   "source": []
  }
 ],
 "metadata": {
  "kernelspec": {
   "display_name": "Python 3 (ipykernel)",
   "language": "python",
   "name": "python3"
  },
  "language_info": {
   "codemirror_mode": {
    "name": "ipython",
    "version": 3
   },
   "file_extension": ".py",
   "mimetype": "text/x-python",
   "name": "python",
   "nbconvert_exporter": "python",
   "pygments_lexer": "ipython3",
   "version": "3.9.5"
  }
 },
 "nbformat": 4,
 "nbformat_minor": 5
}
